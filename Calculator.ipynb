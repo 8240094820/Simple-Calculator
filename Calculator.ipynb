{
 "cells": [
  {
   "cell_type": "code",
   "execution_count": 10,
   "id": "340a3471-2602-48fe-be75-3c399c84bef3",
   "metadata": {},
   "outputs": [],
   "source": [
    "#import tkinter to the root \n",
    "#input the values, sign, lable, button\n",
    "#use get() set() to retrive the values and sign\n",
    "#main code of calculator\n",
    "\n",
    "\n",
    "\n",
    "import tkinter as tk\n",
    "from tkinter import *\n",
    "\n",
    "root =tk. Tk()\n",
    "root.geometry(\"600x350\")\n",
    "root.title(\"Simple Calculator\")\n",
    "root['bg']=\"green\"\n",
    "\n",
    "def calculator():\n",
    "    v1=var_val1.get()\n",
    "    v2=var_val2.get()\n",
    "    s=var_sign.get()\n",
    "    \n",
    "    result=0\n",
    "\n",
    "    if s=='+':\n",
    "        result= (float(v1) + float(v2))\n",
    "    elif s=='-':\n",
    "        result= (float(v1) - float(v2))\n",
    "    elif s=='*':\n",
    "        result= (float(v1) * float(v2))\n",
    "    elif s=='/':\n",
    "        try:\n",
    "            result= (float(v1) / float(v2))\n",
    "        except:\n",
    "            result= \"Can't divisable by 0\"\n",
    "    elif s=='%':\n",
    "        result= (float(v1) % float(v2))\n",
    "\n",
    "    text=\"Your result is: \"+str(result)\n",
    "    var_lbl.set(text)\n",
    "\n",
    "var_val1= StringVar()\n",
    "var_val1.set(\"first_val\")\n",
    "var_sign= StringVar()\n",
    "var_sign.set(\"sign\")\n",
    "var_val2= StringVar()\n",
    "var_val2.set(\"second_val\")\n",
    "\n",
    "var_lbl = StringVar()\n",
    "var_lbl.set(\"Result shown here\")\n",
    "    \n",
    "first_val= Entry(root, textvariable= var_val1, width=20).place(x=100, y=100)\n",
    "sign= Entry(root, textvariable= var_sign, width=10).place(x=280, y=100)\n",
    "second_val= Entry(root, textvariable= var_val2, width=20).place(x=400,y=100)\n",
    "\n",
    "btn= Button(root, command= calculator, text=\"Calculate\").place(x=265, y=140)\n",
    "lbl= Label(root, textvariable= var_lbl).place(x=265, y=200)\n",
    "\n",
    "root.mainloop()"
   ]
  },
  {
   "cell_type": "code",
   "execution_count": null,
   "id": "f6afbc1a-f5d0-4280-94dd-6f0ab958c293",
   "metadata": {},
   "outputs": [],
   "source": []
  },
  {
   "cell_type": "code",
   "execution_count": null,
   "id": "07c75162-cdaf-4780-8b45-7b04bb8f3458",
   "metadata": {},
   "outputs": [],
   "source": []
  }
 ],
 "metadata": {
  "kernelspec": {
   "display_name": "Python 3 (ipykernel)",
   "language": "python",
   "name": "python3"
  },
  "language_info": {
   "codemirror_mode": {
    "name": "ipython",
    "version": 3
   },
   "file_extension": ".py",
   "mimetype": "text/x-python",
   "name": "python",
   "nbconvert_exporter": "python",
   "pygments_lexer": "ipython3",
   "version": "3.10.9"
  }
 },
 "nbformat": 4,
 "nbformat_minor": 5
}
